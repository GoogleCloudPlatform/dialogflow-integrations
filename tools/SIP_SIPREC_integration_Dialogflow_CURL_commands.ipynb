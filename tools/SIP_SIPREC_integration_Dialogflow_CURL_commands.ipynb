{
  "nbformat": 4,
  "nbformat_minor": 0,
  "metadata": {
    "colab": {
      "provenance": []
    },
    "kernelspec": {
      "name": "python3",
      "display_name": "Python 3"
    },
    "language_info": {
      "name": "python"
    }
  },
  "cells": [
    {
      "cell_type": "code",
      "execution_count": null,
      "metadata": {
        "id": "g1x7hsrrRjKG"
      },
      "outputs": [],
      "source": [
        "import json\n",
        "import os"
      ]
    },
    {
      "cell_type": "code",
      "source": [
        "PROJECT_ID = \"insert your-project-id\" # @param {type:\"string\"}\n",
        "REGION = \"insert the region id\" # @param {type:\"string\"}\n",
        "JWT = \"insert output of `gcloud auth print-access-token`\" # @param {type:\"string\"}\n",
        "\n",
        "\n",
        "if REGION == \"global\":\n",
        "    LOCATION_ID = \"\"\n",
        "else:\n",
        "    LOCATION_ID = REGION + \"-\""
      ],
      "metadata": {
        "id": "yIiSpoUaSHMl"
      },
      "execution_count": null,
      "outputs": []
    },
    {
      "cell_type": "code",
      "source": [
        "  # @title  ListConversationProfiles\n",
        "\n",
        "curl = f\"\"\"\n",
        "curl -X GET \\\n",
        "-H \"Authorization: Bearer {JWT}\" \\\n",
        "-H \"X-Goog-User-Project: {PROJECT_ID}\" \\\n",
        "-H \"Content-Type: application/json; charset=utf-8\" \\\n",
        "https://{LOCATION_ID}dialogflow.googleapis.com/v2beta1/projects/{PROJECT_ID}/locations/{REGION}/conversationProfiles\n",
        "\"\"\"\n",
        "\n",
        "response = json.loads(os.popen(curl).read())\n",
        "response"
      ],
      "metadata": {
        "id": "s7MfoE_IRyce"
      },
      "execution_count": null,
      "outputs": []
    },
    {
      "cell_type": "code",
      "source": [
        "# @title CreateConversationProfile for SIPREC integration with Agent Assist / Insights\n",
        "\n",
        "CONVERSATION_PROFILE_NAME = \"SIPREC integration\" # @param {type:\"string\"}\n",
        "\n",
        "curl = f\"\"\"\n",
        "curl -X POST \\\n",
        "-H \"Authorization: Bearer {JWT}\" \\\n",
        "-H \"X-Goog-User-Project: {PROJECT_ID}\" \\\n",
        "-H \"Content-Type: application/json; charset=utf-8\" \\\n",
        "-d '{{\n",
        "        \"displayName\": \"{CONVERSATION_PROFILE_NAME}\",\n",
        "        \"languageCode\": \"en-US\",\n",
        "        \"sipConfig\": {{\n",
        "            \"createConversationOnTheFly\": true\n",
        "        }}\n",
        "    }}' \\\n",
        "https://{LOCATION_ID}dialogflow.googleapis.com/v2beta1/projects/{PROJECT_ID}/locations/{REGION}/conversationProfiles\n",
        "\"\"\"\n",
        "\n",
        "response = json.loads(os.popen(curl).read())\n",
        "response"
      ],
      "metadata": {
        "id": "IeLB9g5CWt6E"
      },
      "execution_count": null,
      "outputs": []
    },
    {
      "cell_type": "code",
      "source": [
        "# @title CreateConversationProfile for SIP integration with Dialogflow CX\n",
        "\n",
        "CONVERSATION_PROFILE_NAME = \"SIP integration\" # @param {type:\"string\"}\n",
        "\n",
        "curl = f\"\"\"\n",
        "curl -X POST \\\n",
        "-H \"Authorization: Bearer {JWT}\" \\\n",
        "-H \"X-Goog-User-Project: {PROJECT_ID}\" \\\n",
        "-H \"Content-Type: application/json; charset=utf-8\" \\\n",
        "-d '{{\n",
        "        \"displayName\": \"{CONVERSATION_PROFILE_NAME}\",\n",
        "        \"languageCode\": \"en-US\",\n",
        "        \"sipConfig\": {{\n",
        "            \"createConversationOnTheFly\": true,\n",
        "            \"allowVirtualAgentInteraction\": true\n",
        "        }}\n",
        "    }}' \\\n",
        "https://{LOCATION_ID}dialogflow.googleapis.com/v2beta1/projects/{PROJECT_ID}/locations/{REGION}/conversationProfiles\n",
        "\"\"\"\n",
        "\n",
        "response = json.loads(os.popen(curl).read())\n",
        "response"
      ],
      "metadata": {
        "id": "4VcQfQpNfkEX"
      },
      "execution_count": null,
      "outputs": []
    },
    {
      "cell_type": "code",
      "source": [
        "# @title CreatePhoneNumberOrder\n",
        "\n",
        "\n",
        "curl = f\"\"\"\n",
        "curl -X POST \\\n",
        "-H \"Authorization: Bearer {JWT}\" \\\n",
        "-H \"X-Goog-User-Project: {PROJECT_ID}\" \\\n",
        "-H \"Content-Type: application/json; charset=utf-8\" \\\n",
        "-d '{{\n",
        "        \"phoneNumberSpec\": {{\n",
        "            \"countryCode\": 1,\n",
        "            \"count\": 1\n",
        "        }}\n",
        "    }}' \\\n",
        "https://{LOCATION_ID}dialogflow.googleapis.com/v2beta1/projects/{PROJECT_ID}/locations/{REGION}/phoneNumberOrders\n",
        "\"\"\"\n",
        "\n",
        "response = json.loads(os.popen(curl).read())\n",
        "response"
      ],
      "metadata": {
        "id": "o5h0wEfubnCh"
      },
      "execution_count": null,
      "outputs": []
    },
    {
      "cell_type": "code",
      "source": [
        "# @title ListPhoneNumbers\n",
        "\n",
        "curl = f\"\"\"\n",
        "curl -X GET \\\n",
        "-H \"Authorization: Bearer {JWT}\" \\\n",
        "-H \"X-Goog-User-Project: {PROJECT_ID}\" \\\n",
        "-H \"Content-Type: application/json; charset=utf-8\" \\\n",
        "https://{LOCATION_ID}dialogflow.googleapis.com/v2beta1/projects/{PROJECT_ID}/locations/{REGION}/phoneNumbers\n",
        "\"\"\"\n",
        "\n",
        "response = json.loads(os.popen(curl).read())\n",
        "response"
      ],
      "metadata": {
        "id": "jcL-Vtz5evzX"
      },
      "execution_count": null,
      "outputs": []
    },
    {
      "cell_type": "code",
      "source": [
        "# @title Associate phone number with ConversationProfile\n",
        "\n",
        "PHONE_NUMBER_NAME = \"example name: projects/project-id/locations/global/phoneNumbers/N91tCLe9SZyWH6lyj7Z8uw\" # @param {type:\"string\"}\n",
        "CONVERSATION_PROFILE_NAME = \"example name: projects/project-id/locations/global/conversationProfiles/efOM3O0oS6aca1_bvs-Z9Q\" # @param {type:\"string\"}\n",
        "\n",
        "\n",
        "curl = f\"\"\"\n",
        "curl -X PATCH \\\n",
        "-H \"Authorization: Bearer {JWT}\" \\\n",
        "-H \"X-Goog-User-Project: {PROJECT_ID}\" \\\n",
        "-H \"Content-Type: application/json; charset=utf-8\" \\\n",
        "-d '{{\n",
        "        \"conversationProfile\": \"{CONVERSATION_PROFILE_NAME}\"\n",
        "    }}' \\\n",
        "https://{LOCATION_ID}dialogflow.googleapis.com/v2beta1/{PHONE_NUMBER_NAME}?update_mask=conversationProfile\n",
        "\"\"\"\n",
        "\n",
        "response = json.loads(os.popen(curl).read())\n",
        "response"
      ],
      "metadata": {
        "id": "N4i7gj3OdY2I"
      },
      "execution_count": null,
      "outputs": []
    }
  ]
}